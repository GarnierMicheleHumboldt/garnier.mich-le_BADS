{
  "nbformat": 4,
  "nbformat_minor": 0,
  "metadata": {
    "colab": {
      "name": "Assignment.ipynb",
      "provenance": [],
      "collapsed_sections": []
    },
    "kernelspec": {
      "name": "python3",
      "display_name": "Python 3"
    }
  },
  "cells": [
    {
      "cell_type": "markdown",
      "metadata": {
        "id": "zpWMFMSkk4is"
      },
      "source": [
        "# **Introduction for the assignment**\r\n",
        "\r\n",
        "\r\n",
        "\r\n"
      ]
    },
    {
      "cell_type": "markdown",
      "metadata": {
        "id": "Mts4Trb0k8zZ"
      },
      "source": [
        "# **Part 1. Explanatory data analysis**\r\n",
        "\r\n",
        "In this part we will have a quick overview of our data set BADS_WS2021_known.csv"
      ]
    },
    {
      "cell_type": "markdown",
      "metadata": {
        "id": "Uygxso7E92WF"
      },
      "source": [
        "\r\n",
        "\r\n",
        "---\r\n",
        "**A. Dataset importation**\r\n"
      ]
    },
    {
      "cell_type": "code",
      "metadata": {
        "id": "Q2HZm23-knaA"
      },
      "source": [
        "import pandas as pd\r\n",
        "import numpy as np\r\n",
        "import matplotlib.pyplot as plt\r\n",
        "import os #operating system interface"
      ],
      "execution_count": 4,
      "outputs": []
    },
    {
      "cell_type": "code",
      "metadata": {
        "colab": {
          "resources": {
            "http://localhost:8080/nbextensions/google.colab/files.js": {
              "data": "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",
              "ok": true,
              "headers": [
                [
                  "content-type",
                  "application/javascript"
                ]
              ],
              "status": 200,
              "status_text": ""
            }
          },
          "base_uri": "https://localhost:8080/",
          "height": 70
        },
        "id": "5BKNz1OxsxbV",
        "outputId": "e2f2ec94-477c-4bf2-9265-37881f388fbb"
      },
      "source": [
        "from google.colab import files\r\n",
        "data_to_load = files.upload()"
      ],
      "execution_count": 5,
      "outputs": [
        {
          "output_type": "display_data",
          "data": {
            "text/html": [
              "\n",
              "     <input type=\"file\" id=\"files-50543b53-71fe-4d95-a8e5-6d0146977d01\" name=\"files[]\" multiple disabled\n",
              "        style=\"border:none\" />\n",
              "     <output id=\"result-50543b53-71fe-4d95-a8e5-6d0146977d01\">\n",
              "      Upload widget is only available when the cell has been executed in the\n",
              "      current browser session. Please rerun this cell to enable.\n",
              "      </output>\n",
              "      <script src=\"/nbextensions/google.colab/files.js\"></script> "
            ],
            "text/plain": [
              "<IPython.core.display.HTML object>"
            ]
          },
          "metadata": {
            "tags": []
          }
        },
        {
          "output_type": "stream",
          "text": [
            "Saving BADS_WS2021_known.csv to BADS_WS2021_known (1).csv\n"
          ],
          "name": "stdout"
        }
      ]
    },
    {
      "cell_type": "code",
      "metadata": {
        "colab": {
          "base_uri": "https://localhost:8080/",
          "height": 391
        },
        "id": "o1E2dJnrtYau",
        "outputId": "f4693a00-6d21-4647-e151-22ad19c6419f"
      },
      "source": [
        "import io\r\n",
        "df = pd.read_csv(io.BytesIO(data_to_load['BADS_WS2021_known.csv']))\r\n",
        "df #we check if the table is rightly imported"
      ],
      "execution_count": 6,
      "outputs": [
        {
          "output_type": "execute_result",
          "data": {
            "text/html": [
              "<div>\n",
              "<style scoped>\n",
              "    .dataframe tbody tr th:only-of-type {\n",
              "        vertical-align: middle;\n",
              "    }\n",
              "\n",
              "    .dataframe tbody tr th {\n",
              "        vertical-align: top;\n",
              "    }\n",
              "\n",
              "    .dataframe thead th {\n",
              "        text-align: right;\n",
              "    }\n",
              "</style>\n",
              "<table border=\"1\" class=\"dataframe\">\n",
              "  <thead>\n",
              "    <tr style=\"text-align: right;\">\n",
              "      <th></th>\n",
              "      <th>order_item_id</th>\n",
              "      <th>order_date</th>\n",
              "      <th>delivery_date</th>\n",
              "      <th>item_id</th>\n",
              "      <th>item_size</th>\n",
              "      <th>item_color</th>\n",
              "      <th>brand_id</th>\n",
              "      <th>item_price</th>\n",
              "      <th>user_id</th>\n",
              "      <th>user_title</th>\n",
              "      <th>user_dob</th>\n",
              "      <th>user_state</th>\n",
              "      <th>user_reg_date</th>\n",
              "      <th>return</th>\n",
              "    </tr>\n",
              "  </thead>\n",
              "  <tbody>\n",
              "    <tr>\n",
              "      <th>0</th>\n",
              "      <td>1</td>\n",
              "      <td>2016-06-22</td>\n",
              "      <td>2016-06-27</td>\n",
              "      <td>643</td>\n",
              "      <td>38</td>\n",
              "      <td>navy</td>\n",
              "      <td>30</td>\n",
              "      <td>49.90</td>\n",
              "      <td>30822</td>\n",
              "      <td>Mrs</td>\n",
              "      <td>1969-04-17</td>\n",
              "      <td>Saxony</td>\n",
              "      <td>2016-06-23</td>\n",
              "      <td>0</td>\n",
              "    </tr>\n",
              "    <tr>\n",
              "      <th>1</th>\n",
              "      <td>2</td>\n",
              "      <td>2016-06-22</td>\n",
              "      <td>NaN</td>\n",
              "      <td>337</td>\n",
              "      <td>152</td>\n",
              "      <td>grey</td>\n",
              "      <td>30</td>\n",
              "      <td>19.95</td>\n",
              "      <td>30822</td>\n",
              "      <td>Mrs</td>\n",
              "      <td>1969-04-17</td>\n",
              "      <td>Saxony</td>\n",
              "      <td>2016-06-23</td>\n",
              "      <td>0</td>\n",
              "    </tr>\n",
              "    <tr>\n",
              "      <th>2</th>\n",
              "      <td>3</td>\n",
              "      <td>2016-06-22</td>\n",
              "      <td>2016-06-27</td>\n",
              "      <td>270</td>\n",
              "      <td>xxl</td>\n",
              "      <td>grey</td>\n",
              "      <td>49</td>\n",
              "      <td>79.90</td>\n",
              "      <td>30823</td>\n",
              "      <td>Mrs</td>\n",
              "      <td>1970-04-22</td>\n",
              "      <td>Baden-Wuerttemberg</td>\n",
              "      <td>2015-03-15</td>\n",
              "      <td>1</td>\n",
              "    </tr>\n",
              "    <tr>\n",
              "      <th>3</th>\n",
              "      <td>4</td>\n",
              "      <td>2016-06-22</td>\n",
              "      <td>2016-06-27</td>\n",
              "      <td>142</td>\n",
              "      <td>xxl</td>\n",
              "      <td>grey</td>\n",
              "      <td>49</td>\n",
              "      <td>99.90</td>\n",
              "      <td>30823</td>\n",
              "      <td>Mrs</td>\n",
              "      <td>1970-04-22</td>\n",
              "      <td>Baden-Wuerttemberg</td>\n",
              "      <td>2015-03-15</td>\n",
              "      <td>0</td>\n",
              "    </tr>\n",
              "    <tr>\n",
              "      <th>4</th>\n",
              "      <td>5</td>\n",
              "      <td>2016-06-22</td>\n",
              "      <td>2016-06-27</td>\n",
              "      <td>561</td>\n",
              "      <td>xxl</td>\n",
              "      <td>grey</td>\n",
              "      <td>3</td>\n",
              "      <td>14.90</td>\n",
              "      <td>30823</td>\n",
              "      <td>Mrs</td>\n",
              "      <td>1970-04-22</td>\n",
              "      <td>Baden-Wuerttemberg</td>\n",
              "      <td>2015-03-15</td>\n",
              "      <td>1</td>\n",
              "    </tr>\n",
              "    <tr>\n",
              "      <th>...</th>\n",
              "      <td>...</td>\n",
              "      <td>...</td>\n",
              "      <td>...</td>\n",
              "      <td>...</td>\n",
              "      <td>...</td>\n",
              "      <td>...</td>\n",
              "      <td>...</td>\n",
              "      <td>...</td>\n",
              "      <td>...</td>\n",
              "      <td>...</td>\n",
              "      <td>...</td>\n",
              "      <td>...</td>\n",
              "      <td>...</td>\n",
              "      <td>...</td>\n",
              "    </tr>\n",
              "    <tr>\n",
              "      <th>99995</th>\n",
              "      <td>99996</td>\n",
              "      <td>2016-09-11</td>\n",
              "      <td>2016-09-12</td>\n",
              "      <td>156</td>\n",
              "      <td>20</td>\n",
              "      <td>blue</td>\n",
              "      <td>34</td>\n",
              "      <td>29.90</td>\n",
              "      <td>713</td>\n",
              "      <td>Mrs</td>\n",
              "      <td>1959-03-21</td>\n",
              "      <td>Rhineland-Palatinate</td>\n",
              "      <td>2015-02-17</td>\n",
              "      <td>0</td>\n",
              "    </tr>\n",
              "    <tr>\n",
              "      <th>99996</th>\n",
              "      <td>99997</td>\n",
              "      <td>2016-09-11</td>\n",
              "      <td>2016-09-12</td>\n",
              "      <td>156</td>\n",
              "      <td>20</td>\n",
              "      <td>brown</td>\n",
              "      <td>34</td>\n",
              "      <td>29.90</td>\n",
              "      <td>713</td>\n",
              "      <td>Mrs</td>\n",
              "      <td>1959-03-21</td>\n",
              "      <td>Rhineland-Palatinate</td>\n",
              "      <td>2015-02-17</td>\n",
              "      <td>0</td>\n",
              "    </tr>\n",
              "    <tr>\n",
              "      <th>99997</th>\n",
              "      <td>99998</td>\n",
              "      <td>2016-09-11</td>\n",
              "      <td>1994-12-31</td>\n",
              "      <td>1832</td>\n",
              "      <td>xxl</td>\n",
              "      <td>black</td>\n",
              "      <td>37</td>\n",
              "      <td>26.90</td>\n",
              "      <td>47794</td>\n",
              "      <td>Mr</td>\n",
              "      <td>1985-03-01</td>\n",
              "      <td>Hamburg</td>\n",
              "      <td>2016-09-10</td>\n",
              "      <td>0</td>\n",
              "    </tr>\n",
              "    <tr>\n",
              "      <th>99998</th>\n",
              "      <td>99999</td>\n",
              "      <td>2016-09-11</td>\n",
              "      <td>1994-12-31</td>\n",
              "      <td>1832</td>\n",
              "      <td>xxl</td>\n",
              "      <td>black</td>\n",
              "      <td>37</td>\n",
              "      <td>26.90</td>\n",
              "      <td>47794</td>\n",
              "      <td>Mr</td>\n",
              "      <td>1985-03-01</td>\n",
              "      <td>Hamburg</td>\n",
              "      <td>2016-09-10</td>\n",
              "      <td>0</td>\n",
              "    </tr>\n",
              "    <tr>\n",
              "      <th>99999</th>\n",
              "      <td>100000</td>\n",
              "      <td>2016-09-11</td>\n",
              "      <td>2016-10-08</td>\n",
              "      <td>1891</td>\n",
              "      <td>28</td>\n",
              "      <td>fuchsia</td>\n",
              "      <td>47</td>\n",
              "      <td>27.90</td>\n",
              "      <td>2622</td>\n",
              "      <td>Mrs</td>\n",
              "      <td>1973-10-17</td>\n",
              "      <td>Lower Saxony</td>\n",
              "      <td>2015-02-17</td>\n",
              "      <td>0</td>\n",
              "    </tr>\n",
              "  </tbody>\n",
              "</table>\n",
              "<p>100000 rows × 14 columns</p>\n",
              "</div>"
            ],
            "text/plain": [
              "       order_item_id  order_date  ... user_reg_date  return\n",
              "0                  1  2016-06-22  ...    2016-06-23       0\n",
              "1                  2  2016-06-22  ...    2016-06-23       0\n",
              "2                  3  2016-06-22  ...    2015-03-15       1\n",
              "3                  4  2016-06-22  ...    2015-03-15       0\n",
              "4                  5  2016-06-22  ...    2015-03-15       1\n",
              "...              ...         ...  ...           ...     ...\n",
              "99995          99996  2016-09-11  ...    2015-02-17       0\n",
              "99996          99997  2016-09-11  ...    2015-02-17       0\n",
              "99997          99998  2016-09-11  ...    2016-09-10       0\n",
              "99998          99999  2016-09-11  ...    2016-09-10       0\n",
              "99999         100000  2016-09-11  ...    2015-02-17       0\n",
              "\n",
              "[100000 rows x 14 columns]"
            ]
          },
          "metadata": {
            "tags": []
          },
          "execution_count": 6
        }
      ]
    },
    {
      "cell_type": "markdown",
      "metadata": {
        "id": "P0vp9Knc-vg1"
      },
      "source": [
        "**B. Dataset eyeballing**"
      ]
    },
    {
      "cell_type": "code",
      "metadata": {
        "colab": {
          "base_uri": "https://localhost:8080/"
        },
        "id": "3VF8TN4u8YCu",
        "outputId": "df638c27-9258-4dc5-ad9b-983a090e0787"
      },
      "source": [
        "print(\"Dimension of the data set is {}\".format(df.shape))"
      ],
      "execution_count": 7,
      "outputs": [
        {
          "output_type": "stream",
          "text": [
            "Dimension of the data set is (100000, 14)\n"
          ],
          "name": "stdout"
        }
      ]
    },
    {
      "cell_type": "markdown",
      "metadata": {
        "id": "8161Ssjtyh5l"
      },
      "source": [
        "With function shape we see that our data set is of 14 columns and 100.000 rows. In terms of data frame, that represents 14 features and 100.000 observations."
      ]
    },
    {
      "cell_type": "code",
      "metadata": {
        "colab": {
          "base_uri": "https://localhost:8080/",
          "height": 191
        },
        "id": "FNt1GKRy2zYU",
        "outputId": "2693c8d9-4ac2-43ed-de97-9f2c003ed17d"
      },
      "source": [
        "df.head()"
      ],
      "execution_count": 8,
      "outputs": [
        {
          "output_type": "execute_result",
          "data": {
            "text/html": [
              "<div>\n",
              "<style scoped>\n",
              "    .dataframe tbody tr th:only-of-type {\n",
              "        vertical-align: middle;\n",
              "    }\n",
              "\n",
              "    .dataframe tbody tr th {\n",
              "        vertical-align: top;\n",
              "    }\n",
              "\n",
              "    .dataframe thead th {\n",
              "        text-align: right;\n",
              "    }\n",
              "</style>\n",
              "<table border=\"1\" class=\"dataframe\">\n",
              "  <thead>\n",
              "    <tr style=\"text-align: right;\">\n",
              "      <th></th>\n",
              "      <th>order_item_id</th>\n",
              "      <th>order_date</th>\n",
              "      <th>delivery_date</th>\n",
              "      <th>item_id</th>\n",
              "      <th>item_size</th>\n",
              "      <th>item_color</th>\n",
              "      <th>brand_id</th>\n",
              "      <th>item_price</th>\n",
              "      <th>user_id</th>\n",
              "      <th>user_title</th>\n",
              "      <th>user_dob</th>\n",
              "      <th>user_state</th>\n",
              "      <th>user_reg_date</th>\n",
              "      <th>return</th>\n",
              "    </tr>\n",
              "  </thead>\n",
              "  <tbody>\n",
              "    <tr>\n",
              "      <th>0</th>\n",
              "      <td>1</td>\n",
              "      <td>2016-06-22</td>\n",
              "      <td>2016-06-27</td>\n",
              "      <td>643</td>\n",
              "      <td>38</td>\n",
              "      <td>navy</td>\n",
              "      <td>30</td>\n",
              "      <td>49.90</td>\n",
              "      <td>30822</td>\n",
              "      <td>Mrs</td>\n",
              "      <td>1969-04-17</td>\n",
              "      <td>Saxony</td>\n",
              "      <td>2016-06-23</td>\n",
              "      <td>0</td>\n",
              "    </tr>\n",
              "    <tr>\n",
              "      <th>1</th>\n",
              "      <td>2</td>\n",
              "      <td>2016-06-22</td>\n",
              "      <td>NaN</td>\n",
              "      <td>337</td>\n",
              "      <td>152</td>\n",
              "      <td>grey</td>\n",
              "      <td>30</td>\n",
              "      <td>19.95</td>\n",
              "      <td>30822</td>\n",
              "      <td>Mrs</td>\n",
              "      <td>1969-04-17</td>\n",
              "      <td>Saxony</td>\n",
              "      <td>2016-06-23</td>\n",
              "      <td>0</td>\n",
              "    </tr>\n",
              "    <tr>\n",
              "      <th>2</th>\n",
              "      <td>3</td>\n",
              "      <td>2016-06-22</td>\n",
              "      <td>2016-06-27</td>\n",
              "      <td>270</td>\n",
              "      <td>xxl</td>\n",
              "      <td>grey</td>\n",
              "      <td>49</td>\n",
              "      <td>79.90</td>\n",
              "      <td>30823</td>\n",
              "      <td>Mrs</td>\n",
              "      <td>1970-04-22</td>\n",
              "      <td>Baden-Wuerttemberg</td>\n",
              "      <td>2015-03-15</td>\n",
              "      <td>1</td>\n",
              "    </tr>\n",
              "    <tr>\n",
              "      <th>3</th>\n",
              "      <td>4</td>\n",
              "      <td>2016-06-22</td>\n",
              "      <td>2016-06-27</td>\n",
              "      <td>142</td>\n",
              "      <td>xxl</td>\n",
              "      <td>grey</td>\n",
              "      <td>49</td>\n",
              "      <td>99.90</td>\n",
              "      <td>30823</td>\n",
              "      <td>Mrs</td>\n",
              "      <td>1970-04-22</td>\n",
              "      <td>Baden-Wuerttemberg</td>\n",
              "      <td>2015-03-15</td>\n",
              "      <td>0</td>\n",
              "    </tr>\n",
              "    <tr>\n",
              "      <th>4</th>\n",
              "      <td>5</td>\n",
              "      <td>2016-06-22</td>\n",
              "      <td>2016-06-27</td>\n",
              "      <td>561</td>\n",
              "      <td>xxl</td>\n",
              "      <td>grey</td>\n",
              "      <td>3</td>\n",
              "      <td>14.90</td>\n",
              "      <td>30823</td>\n",
              "      <td>Mrs</td>\n",
              "      <td>1970-04-22</td>\n",
              "      <td>Baden-Wuerttemberg</td>\n",
              "      <td>2015-03-15</td>\n",
              "      <td>1</td>\n",
              "    </tr>\n",
              "  </tbody>\n",
              "</table>\n",
              "</div>"
            ],
            "text/plain": [
              "   order_item_id  order_date  ... user_reg_date  return\n",
              "0              1  2016-06-22  ...    2016-06-23       0\n",
              "1              2  2016-06-22  ...    2016-06-23       0\n",
              "2              3  2016-06-22  ...    2015-03-15       1\n",
              "3              4  2016-06-22  ...    2015-03-15       0\n",
              "4              5  2016-06-22  ...    2015-03-15       1\n",
              "\n",
              "[5 rows x 14 columns]"
            ]
          },
          "metadata": {
            "tags": []
          },
          "execution_count": 8
        }
      ]
    },
    {
      "cell_type": "markdown",
      "metadata": {
        "id": "9PvsX8-o22Yc"
      },
      "source": [
        "Function head displays the first 5 rows so we can have a quick overlook on how the table is constructed. Let's analyse that.\r\n",
        "\r\n",
        "1. Order_item_id : begins at 1 and add +1 with every new row, it is simply the count of purchases.\r\n",
        "\r\n",
        "2. Order_date: date format YYYY-MM-DD of the order.\r\n",
        "\r\n",
        "3. Delivery_date: date format YYYY-MM-DD of the delivery.\r\n",
        "\r\n",
        "4. Item-id: 3 random digits that are supposedly representing one specific item each time.\r\n",
        "\r\n",
        "5. Item_size: composed of numbers and characters, size ordered.\r\n",
        "\r\n",
        "6. Item_color: characters, color ordered.\r\n",
        "\r\n",
        "7. Brand_id: the id of the brand expressed in number (code).\r\n",
        "\r\n",
        "8. Item_price: a continuous number, indicates the price of the item.\r\n",
        "\r\n",
        "9. User_id: 5 digits that indicates the user's id.\r\n",
        "\r\n",
        "10. User_title: Characters, indicates the user's title (Mrs, Mr...).\r\n",
        "\r\n",
        "11. User_dob: format YYYY-MM-DD, indicates date of birth of the customer.\r\n",
        "\r\n",
        "12. User_state: characters that display living state of the customer.\r\n",
        "\r\n",
        "13. User_reg_date: format YYYY-MM-DD, it is the registration date, let us know customer's seniority. \r\n",
        "\r\n",
        "14. Return: binary types, 1 if article is returned, 0 if not."
      ]
    },
    {
      "cell_type": "code",
      "metadata": {
        "colab": {
          "base_uri": "https://localhost:8080/"
        },
        "id": "SZU0Kxsky7G7",
        "outputId": "7b076891-1988-4615-a207-3a24ecf4e061"
      },
      "source": [
        "df.info()"
      ],
      "execution_count": 9,
      "outputs": [
        {
          "output_type": "stream",
          "text": [
            "<class 'pandas.core.frame.DataFrame'>\n",
            "RangeIndex: 100000 entries, 0 to 99999\n",
            "Data columns (total 14 columns):\n",
            " #   Column         Non-Null Count   Dtype  \n",
            "---  ------         --------------   -----  \n",
            " 0   order_item_id  100000 non-null  int64  \n",
            " 1   order_date     100000 non-null  object \n",
            " 2   delivery_date  90682 non-null   object \n",
            " 3   item_id        100000 non-null  int64  \n",
            " 4   item_size      100000 non-null  object \n",
            " 5   item_color     100000 non-null  object \n",
            " 6   brand_id       100000 non-null  int64  \n",
            " 7   item_price     100000 non-null  float64\n",
            " 8   user_id        100000 non-null  int64  \n",
            " 9   user_title     100000 non-null  object \n",
            " 10  user_dob       91275 non-null   object \n",
            " 11  user_state     100000 non-null  object \n",
            " 12  user_reg_date  100000 non-null  object \n",
            " 13  return         100000 non-null  int64  \n",
            "dtypes: float64(1), int64(5), object(8)\n",
            "memory usage: 10.7+ MB\n"
          ],
          "name": "stdout"
        }
      ]
    },
    {
      "cell_type": "markdown",
      "metadata": {
        "id": "iNDRE_Boy__j"
      },
      "source": [
        "We observe that our data set is made of multiple types:\r\n",
        "\r\n",
        "- intergers\r\n",
        "\r\n",
        "- floats\r\n",
        "\r\n",
        "- objects\r\n",
        "\r\n",
        "The memory usage is of 10MB, we'll see if we can improve the performance later.\r\n",
        "Moreover, we observe missing values for the features delivery_date and user_dob."
      ]
    },
    {
      "cell_type": "code",
      "metadata": {
        "colab": {
          "base_uri": "https://localhost:8080/",
          "height": 277
        },
        "id": "n-hxx22XzgOM",
        "outputId": "ae7d5b66-d880-49c1-8e39-a9a56f07f403"
      },
      "source": [
        "df.describe()"
      ],
      "execution_count": 10,
      "outputs": [
        {
          "output_type": "execute_result",
          "data": {
            "text/html": [
              "<div>\n",
              "<style scoped>\n",
              "    .dataframe tbody tr th:only-of-type {\n",
              "        vertical-align: middle;\n",
              "    }\n",
              "\n",
              "    .dataframe tbody tr th {\n",
              "        vertical-align: top;\n",
              "    }\n",
              "\n",
              "    .dataframe thead th {\n",
              "        text-align: right;\n",
              "    }\n",
              "</style>\n",
              "<table border=\"1\" class=\"dataframe\">\n",
              "  <thead>\n",
              "    <tr style=\"text-align: right;\">\n",
              "      <th></th>\n",
              "      <th>order_item_id</th>\n",
              "      <th>item_id</th>\n",
              "      <th>brand_id</th>\n",
              "      <th>item_price</th>\n",
              "      <th>user_id</th>\n",
              "      <th>return</th>\n",
              "    </tr>\n",
              "  </thead>\n",
              "  <tbody>\n",
              "    <tr>\n",
              "      <th>count</th>\n",
              "      <td>100000.000000</td>\n",
              "      <td>100000.000000</td>\n",
              "      <td>100000.000000</td>\n",
              "      <td>100000.000000</td>\n",
              "      <td>100000.000000</td>\n",
              "      <td>100000.000000</td>\n",
              "    </tr>\n",
              "    <tr>\n",
              "      <th>mean</th>\n",
              "      <td>50000.500000</td>\n",
              "      <td>923.781820</td>\n",
              "      <td>30.149020</td>\n",
              "      <td>65.064695</td>\n",
              "      <td>27169.073960</td>\n",
              "      <td>0.458180</td>\n",
              "    </tr>\n",
              "    <tr>\n",
              "      <th>std</th>\n",
              "      <td>28867.657797</td>\n",
              "      <td>702.568822</td>\n",
              "      <td>28.180191</td>\n",
              "      <td>47.991546</td>\n",
              "      <td>14053.417669</td>\n",
              "      <td>0.498251</td>\n",
              "    </tr>\n",
              "    <tr>\n",
              "      <th>min</th>\n",
              "      <td>1.000000</td>\n",
              "      <td>1.000000</td>\n",
              "      <td>1.000000</td>\n",
              "      <td>0.000000</td>\n",
              "      <td>9.000000</td>\n",
              "      <td>0.000000</td>\n",
              "    </tr>\n",
              "    <tr>\n",
              "      <th>25%</th>\n",
              "      <td>25000.750000</td>\n",
              "      <td>214.000000</td>\n",
              "      <td>5.000000</td>\n",
              "      <td>29.900000</td>\n",
              "      <td>14937.000000</td>\n",
              "      <td>0.000000</td>\n",
              "    </tr>\n",
              "    <tr>\n",
              "      <th>50%</th>\n",
              "      <td>50000.500000</td>\n",
              "      <td>812.000000</td>\n",
              "      <td>25.000000</td>\n",
              "      <td>49.900000</td>\n",
              "      <td>31189.000000</td>\n",
              "      <td>0.000000</td>\n",
              "    </tr>\n",
              "    <tr>\n",
              "      <th>75%</th>\n",
              "      <td>75000.250000</td>\n",
              "      <td>1581.000000</td>\n",
              "      <td>44.000000</td>\n",
              "      <td>79.900000</td>\n",
              "      <td>38917.250000</td>\n",
              "      <td>1.000000</td>\n",
              "    </tr>\n",
              "    <tr>\n",
              "      <th>max</th>\n",
              "      <td>100000.000000</td>\n",
              "      <td>2241.000000</td>\n",
              "      <td>138.000000</td>\n",
              "      <td>999.000000</td>\n",
              "      <td>48241.000000</td>\n",
              "      <td>1.000000</td>\n",
              "    </tr>\n",
              "  </tbody>\n",
              "</table>\n",
              "</div>"
            ],
            "text/plain": [
              "       order_item_id        item_id  ...        user_id         return\n",
              "count  100000.000000  100000.000000  ...  100000.000000  100000.000000\n",
              "mean    50000.500000     923.781820  ...   27169.073960       0.458180\n",
              "std     28867.657797     702.568822  ...   14053.417669       0.498251\n",
              "min         1.000000       1.000000  ...       9.000000       0.000000\n",
              "25%     25000.750000     214.000000  ...   14937.000000       0.000000\n",
              "50%     50000.500000     812.000000  ...   31189.000000       0.000000\n",
              "75%     75000.250000    1581.000000  ...   38917.250000       1.000000\n",
              "max    100000.000000    2241.000000  ...   48241.000000       1.000000\n",
              "\n",
              "[8 rows x 6 columns]"
            ]
          },
          "metadata": {
            "tags": []
          },
          "execution_count": 10
        }
      ]
    },
    {
      "cell_type": "markdown",
      "metadata": {
        "id": "NOActC2CzmKC"
      },
      "source": [
        "The function describe gives us statistique insight of our data set for each characteristic that is numerical. Some of the result are not relevant.\r\n",
        "\r\n",
        "E.g. Order_item_id is perfectly distributed as it is the count of purchases.\r\n",
        "\r\n",
        "E.g.2. Return being a binary type does not give distribution information.\r\n",
        "\r\n",
        "Some features are more talkative. For instance, Item_price displays a mean larger than the median. We also observe that the max value is 999 while the 3rd quartile is only 79.9. Therefore we expect to find significant outliers."
      ]
    },
    {
      "cell_type": "code",
      "metadata": {
        "colab": {
          "base_uri": "https://localhost:8080/"
        },
        "id": "D3xucbJj161H",
        "outputId": "8c8b2e59-5e25-4d27-d476-852ba1a3699e"
      },
      "source": [
        "df.nunique(axis=0)"
      ],
      "execution_count": 11,
      "outputs": [
        {
          "output_type": "execute_result",
          "data": {
            "text/plain": [
              "order_item_id    100000\n",
              "order_date           82\n",
              "delivery_date       123\n",
              "item_id            1943\n",
              "item_size           102\n",
              "item_color           77\n",
              "brand_id            135\n",
              "item_price          252\n",
              "user_id           19205\n",
              "user_title            5\n",
              "user_dob           9247\n",
              "user_state           16\n",
              "user_reg_date       573\n",
              "return                2\n",
              "dtype: int64"
            ]
          },
          "metadata": {
            "tags": []
          },
          "execution_count": 11
        }
      ]
    },
    {
      "cell_type": "markdown",
      "metadata": {
        "id": "ZLW6gzV-6gMf"
      },
      "source": [
        "The function unique let us know how many different variables we'll find in each feature. We know now that 135 different brands are sold by the shop, 19205 customers from 16 states have ordered 100.000 items, etc."
      ]
    },
    {
      "cell_type": "markdown",
      "metadata": {
        "id": "nJCXsTCg-cSo"
      },
      "source": [
        "**C. Target eyeballing**"
      ]
    },
    {
      "cell_type": "markdown",
      "metadata": {
        "id": "kJvkFmwN-572"
      },
      "source": [
        "Now we want to know more about our target variable. First action here is to change the column's name return to returns. This will avoid miscomprehension from Python with the function return"
      ]
    },
    {
      "cell_type": "code",
      "metadata": {
        "id": "cXIECNEEBOB_"
      },
      "source": [
        "df.rename(columns = {'return': 'returns'})\r\n",
        "df = df.rename(columns = {'return': 'returns'})"
      ],
      "execution_count": 12,
      "outputs": []
    },
    {
      "cell_type": "markdown",
      "metadata": {
        "id": "Dxh6OFyICxQn"
      },
      "source": [
        "We can now have a better look over our Target variable, returns.\r\n",
        "\r\n"
      ]
    },
    {
      "cell_type": "code",
      "metadata": {
        "colab": {
          "base_uri": "https://localhost:8080/"
        },
        "id": "cu03pCm4_FDl",
        "outputId": "79bca260-0571-4f98-c0ea-07cab3956aeb"
      },
      "source": [
        "df.returns.value_counts()"
      ],
      "execution_count": 13,
      "outputs": [
        {
          "output_type": "execute_result",
          "data": {
            "text/plain": [
              "0    54182\n",
              "1    45818\n",
              "Name: returns, dtype: int64"
            ]
          },
          "metadata": {
            "tags": []
          },
          "execution_count": 13
        }
      ]
    },
    {
      "cell_type": "markdown",
      "metadata": {
        "id": "CUxyiF16C34H"
      },
      "source": [
        "We see that almost half of the items are return, which is a pretty tragic amount. We can aggregate this information with other variables. Let's find the mode in price, item and brand."
      ]
    },
    {
      "cell_type": "code",
      "metadata": {
        "colab": {
          "base_uri": "https://localhost:8080/"
        },
        "id": "G83u4ltCLHBz",
        "outputId": "1a3428ce-6994-4b3c-d2de-215cd6758636"
      },
      "source": [
        "mode_price = df.groupby(\"returns\")[\"item_price\"].apply(lambda x: x.mode().iloc[0])\r\n",
        "mode_item = df.groupby(\"returns\")[\"item_id\"].apply(lambda x: x.mode().iloc[0])\r\n",
        "mode_brand = df.groupby(\"returns\")[\"brand_id\"].apply(lambda x: x.mode().iloc[0])\r\n",
        "print(mode_price)\r\n",
        "print(mode_item)\r\n",
        "print(mode_brand)"
      ],
      "execution_count": 14,
      "outputs": [
        {
          "output_type": "stream",
          "text": [
            "returns\n",
            "0    39.9\n",
            "1    59.9\n",
            "Name: item_price, dtype: float64\n",
            "returns\n",
            "0    1415\n",
            "1     100\n",
            "Name: item_id, dtype: int64\n",
            "returns\n",
            "0    3\n",
            "1    3\n",
            "Name: brand_id, dtype: int64\n"
          ],
          "name": "stdout"
        }
      ]
    },
    {
      "cell_type": "markdown",
      "metadata": {
        "id": "qY_XoWhSG-Ea"
      },
      "source": [
        "Here we see that the most returned item price is 59.9€, the item the most returned is the number 100 and the brand that is the most returned is the 3. We can observed that brand 3 is both the most returned and the most kept, we could imagine that being the most sold brand, the chances of returned are simply higher."
      ]
    },
    {
      "cell_type": "code",
      "metadata": {
        "colab": {
          "base_uri": "https://localhost:8080/"
        },
        "id": "dIJG07BJHqo1",
        "outputId": "518b6a13-4c8d-4e55-aa33-450edde64330"
      },
      "source": [
        "df.groupby(\"returns\")[\"brand_id\"].value_counts()"
      ],
      "execution_count": 15,
      "outputs": [
        {
          "output_type": "execute_result",
          "data": {
            "text/plain": [
              "returns  brand_id\n",
              "0        3           7214\n",
              "         1           4279\n",
              "         5           3066\n",
              "         37          2683\n",
              "         11          1800\n",
              "                     ... \n",
              "1        100            1\n",
              "         105            1\n",
              "         136            1\n",
              "         137            1\n",
              "         138            1\n",
              "Name: brand_id, Length: 254, dtype: int64"
            ]
          },
          "metadata": {
            "tags": []
          },
          "execution_count": 15
        }
      ]
    },
    {
      "cell_type": "markdown",
      "metadata": {
        "id": "6gho6wIAMlc8"
      },
      "source": [
        "As expected, counts of brand_id shows us that 3 is the most sold brand by far."
      ]
    },
    {
      "cell_type": "markdown",
      "metadata": {
        "id": "w1Vge1DKN51x"
      },
      "source": [
        "# **Part 2. Data preparation**\r\n",
        "\r\n",
        "Now that we know what we've put our foot in, we can start preparing our dataset for prediction models. "
      ]
    },
    {
      "cell_type": "markdown",
      "metadata": {
        "id": "x2aV45WmOR4S"
      },
      "source": [
        "**A. Data types**\r\n",
        "\r\n",
        "We're gonna start our preparation by altering some of the data types so that our data set is more efficient.\r\n",
        "\r\n",
        "First thing we do is changing all our Int64 and float64 to float32."
      ]
    },
    {
      "cell_type": "code",
      "metadata": {
        "id": "jQbNjJplOOpA"
      },
      "source": [
        "#We start by changing float64 in float32\r\n",
        "num_vars = df.select_dtypes(include=np.float64).columns\r\n",
        "df[num_vars] = df[num_vars].astype(np.float32)\r\n",
        "\r\n",
        "#We change Int64 in float32\r\n",
        "num_vars = df.select_dtypes(include=np.int64).columns\r\n",
        "df[num_vars] = df[num_vars].astype(np.float32)"
      ],
      "execution_count": 16,
      "outputs": []
    },
    {
      "cell_type": "markdown",
      "metadata": {
        "id": "qDWnodGSReF5"
      },
      "source": [
        "Because we know that returns is a binary variable we're gonna store it as boolean."
      ]
    },
    {
      "cell_type": "code",
      "metadata": {
        "id": "CVGGPX5ORlvp"
      },
      "source": [
        "df[\"returns\"] = df[\"returns\"].astype(\"bool\")"
      ],
      "execution_count": 17,
      "outputs": []
    },
    {
      "cell_type": "markdown",
      "metadata": {
        "id": "f9B6ae5RSLCp"
      },
      "source": [
        "Now we're focusing on user_title that only contains 5 variables."
      ]
    },
    {
      "cell_type": "code",
      "metadata": {
        "colab": {
          "base_uri": "https://localhost:8080/"
        },
        "id": "kOIJFevBSRfs",
        "outputId": "cfa66311-6b96-4188-e2cb-90bbd97999b3"
      },
      "source": [
        "df.user_title.value_counts()"
      ],
      "execution_count": 18,
      "outputs": [
        {
          "output_type": "execute_result",
          "data": {
            "text/plain": [
              "Mrs             95429\n",
              "Mr               3915\n",
              "Family            414\n",
              "Company           128\n",
              "not reported      114\n",
              "Name: user_title, dtype: int64"
            ]
          },
          "metadata": {
            "tags": []
          },
          "execution_count": 18
        }
      ]
    },
    {
      "cell_type": "markdown",
      "metadata": {
        "id": "LiIYy7D9TgTm"
      },
      "source": [
        "Because Family, Company and Not reported are so small, I choose to group them as \"Else\" and to transform user_title as a 3 multinomial variable."
      ]
    },
    {
      "cell_type": "code",
      "metadata": {
        "colab": {
          "base_uri": "https://localhost:8080/"
        },
        "id": "E1T_OqR9U344",
        "outputId": "806d08fe-fa09-4f42-ba3f-b26288a1ecc7"
      },
      "source": [
        "df = df.replace(\"Family\", \"Else\")\r\n",
        "df = df.replace(\"Company\", \"Else\")\r\n",
        "df = df.replace(\"not reported\", \"Else\")\r\n",
        "print(df.user_title.value_counts())\r\n",
        "\r\n",
        "df[\"user_title\"] = df[\"user_title\"].astype(\"category\")"
      ],
      "execution_count": 19,
      "outputs": [
        {
          "output_type": "stream",
          "text": [
            "Mrs     95429\n",
            "Mr       3915\n",
            "Else      656\n",
            "Name: user_title, dtype: int64\n"
          ],
          "name": "stdout"
        }
      ]
    },
    {
      "cell_type": "markdown",
      "metadata": {
        "id": "e1v9OTgvYc3c"
      },
      "source": [
        "Within our features, 4 of them are format date YYYY-MM-DD. We want to change them in date type.\r\n",
        "\r\n"
      ]
    },
    {
      "cell_type": "code",
      "metadata": {
        "id": "gIA97bejYpNm"
      },
      "source": [
        "df[\"order_date\"] = pd.to_datetime(df['order_date'])\r\n",
        "df[\"delivery_date\"] = pd.to_datetime(df['delivery_date'])\r\n",
        "df[\"user_dob\"] = pd.to_datetime(df['user_dob'])\r\n",
        "df[\"user_reg_date\"] = pd.to_datetime(df['user_reg_date'])"
      ],
      "execution_count": 20,
      "outputs": []
    },
    {
      "cell_type": "markdown",
      "metadata": {
        "id": "-3l5kmKnalEG"
      },
      "source": [
        "We transform the 3 remaining features (state, size and color) in categories."
      ]
    },
    {
      "cell_type": "code",
      "metadata": {
        "id": "gQjb_a6darnW"
      },
      "source": [
        "df[\"user_state\"] = df[\"user_state\"].astype(\"category\")\r\n",
        "df[\"item_size\"] = df[\"item_size\"].astype(\"category\")\r\n",
        "df[\"item_color\"] = df[\"item_color\"].astype(\"category\")"
      ],
      "execution_count": 21,
      "outputs": []
    },
    {
      "cell_type": "code",
      "metadata": {
        "colab": {
          "base_uri": "https://localhost:8080/"
        },
        "id": "kt1QZCZ-cYg2",
        "outputId": "d5e2883c-277b-4028-ab87-e6f1b7a1d41d"
      },
      "source": [
        "df.info()"
      ],
      "execution_count": 22,
      "outputs": [
        {
          "output_type": "stream",
          "text": [
            "<class 'pandas.core.frame.DataFrame'>\n",
            "RangeIndex: 100000 entries, 0 to 99999\n",
            "Data columns (total 14 columns):\n",
            " #   Column         Non-Null Count   Dtype         \n",
            "---  ------         --------------   -----         \n",
            " 0   order_item_id  100000 non-null  float32       \n",
            " 1   order_date     100000 non-null  datetime64[ns]\n",
            " 2   delivery_date  90682 non-null   datetime64[ns]\n",
            " 3   item_id        100000 non-null  float32       \n",
            " 4   item_size      100000 non-null  category      \n",
            " 5   item_color     100000 non-null  category      \n",
            " 6   brand_id       100000 non-null  float32       \n",
            " 7   item_price     100000 non-null  float32       \n",
            " 8   user_id        100000 non-null  float32       \n",
            " 9   user_title     100000 non-null  category      \n",
            " 10  user_dob       91275 non-null   datetime64[ns]\n",
            " 11  user_state     100000 non-null  category      \n",
            " 12  user_reg_date  100000 non-null  datetime64[ns]\n",
            " 13  returns        100000 non-null  bool          \n",
            "dtypes: bool(1), category(4), datetime64[ns](4), float32(5)\n",
            "memory usage: 5.4 MB\n"
          ],
          "name": "stdout"
        }
      ]
    },
    {
      "cell_type": "markdown",
      "metadata": {
        "id": "-pPzzYp-cbKl"
      },
      "source": [
        "We see here that all data types have been righteously transformed. In the process we've save almost half of our memory usage."
      ]
    },
    {
      "cell_type": "markdown",
      "metadata": {
        "id": "nj6lwBkccq_l"
      },
      "source": [
        "**B. Dataset improvement**\r\n",
        "\r\n",
        "Because it might end up worhty, or maybe not I'ved decided to insert two new features to our dataset:\r\n",
        "\r\n",
        "- How many time the delivary has taken: delivery_time\r\n",
        "- How old are the customers: user_age"
      ]
    },
    {
      "cell_type": "code",
      "metadata": {
        "id": "gO9YIma0eFdJ"
      },
      "source": [
        "delivery_time = df[\"delivery_date\"] - df[\"order_date\"]\r\n",
        "df.add(delivery_time)\r\n",
        "df[\"delivery_time\"] = pd.to_timedelta(df['delivery_time'])"
      ],
      "execution_count": null,
      "outputs": []
    }
  ]
}